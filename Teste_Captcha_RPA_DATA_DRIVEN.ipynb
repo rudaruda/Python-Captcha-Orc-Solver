{
  "nbformat": 4,
  "nbformat_minor": 0,
  "metadata": {
    "colab": {
      "name": "Teste Captcha - RPA DATA DRIVEN.ipynb",
      "provenance": []
    },
    "kernelspec": {
      "name": "python3",
      "display_name": "Python 3"
    }
  },
  "cells": [
    {
      "cell_type": "code",
      "metadata": {
        "id": "a5Nh4_flh7Ps",
        "outputId": "e4d7147b-190e-46b6-bff6-6c41b4332d79",
        "colab": {
          "base_uri": "https://localhost:8080/"
        }
      },
      "source": [
        "!sudo apt install tesseract-ocr\n",
        "!pip install pytesseract"
      ],
      "execution_count": 295,
      "outputs": [
        {
          "output_type": "stream",
          "text": [
            "Reading package lists... Done\n",
            "Building dependency tree       \n",
            "Reading state information... Done\n",
            "The following additional packages will be installed:\n",
            "  tesseract-ocr-eng tesseract-ocr-osd\n",
            "The following NEW packages will be installed:\n",
            "  tesseract-ocr tesseract-ocr-eng tesseract-ocr-osd\n",
            "0 upgraded, 3 newly installed, 0 to remove and 11 not upgraded.\n",
            "Need to get 4,795 kB of archives.\n",
            "After this operation, 15.8 MB of additional disk space will be used.\n",
            "Get:1 http://archive.ubuntu.com/ubuntu bionic/universe amd64 tesseract-ocr-eng all 4.00~git24-0e00fe6-1.2 [1,588 kB]\n",
            "Get:2 http://archive.ubuntu.com/ubuntu bionic/universe amd64 tesseract-ocr-osd all 4.00~git24-0e00fe6-1.2 [2,989 kB]\n",
            "Get:3 http://archive.ubuntu.com/ubuntu bionic/universe amd64 tesseract-ocr amd64 4.00~git2288-10f4998a-2 [218 kB]\n",
            "Fetched 4,795 kB in 2s (2,974 kB/s)\n",
            "debconf: unable to initialize frontend: Dialog\n",
            "debconf: (No usable dialog-like program is installed, so the dialog based frontend cannot be used. at /usr/share/perl5/Debconf/FrontEnd/Dialog.pm line 76, <> line 3.)\n",
            "debconf: falling back to frontend: Readline\n",
            "debconf: unable to initialize frontend: Readline\n",
            "debconf: (This frontend requires a controlling tty.)\n",
            "debconf: falling back to frontend: Teletype\n",
            "dpkg-preconfigure: unable to re-open stdin: \n",
            "Selecting previously unselected package tesseract-ocr-eng.\n",
            "(Reading database ... 144628 files and directories currently installed.)\n",
            "Preparing to unpack .../tesseract-ocr-eng_4.00~git24-0e00fe6-1.2_all.deb ...\n",
            "Unpacking tesseract-ocr-eng (4.00~git24-0e00fe6-1.2) ...\n",
            "Selecting previously unselected package tesseract-ocr-osd.\n",
            "Preparing to unpack .../tesseract-ocr-osd_4.00~git24-0e00fe6-1.2_all.deb ...\n",
            "Unpacking tesseract-ocr-osd (4.00~git24-0e00fe6-1.2) ...\n",
            "Selecting previously unselected package tesseract-ocr.\n",
            "Preparing to unpack .../tesseract-ocr_4.00~git2288-10f4998a-2_amd64.deb ...\n",
            "Unpacking tesseract-ocr (4.00~git2288-10f4998a-2) ...\n",
            "Setting up tesseract-ocr-osd (4.00~git24-0e00fe6-1.2) ...\n",
            "Setting up tesseract-ocr-eng (4.00~git24-0e00fe6-1.2) ...\n",
            "Setting up tesseract-ocr (4.00~git2288-10f4998a-2) ...\n",
            "Processing triggers for man-db (2.8.3-2ubuntu0.1) ...\n",
            "Collecting pytesseract\n",
            "  Downloading https://files.pythonhosted.org/packages/17/4b/4dbd55388225bb6cd243d21f70e77cb3ce061e241257485936324b8e920f/pytesseract-0.3.6.tar.gz\n",
            "Requirement already satisfied: Pillow in /usr/local/lib/python3.6/dist-packages (from pytesseract) (7.0.0)\n",
            "Building wheels for collected packages: pytesseract\n",
            "  Building wheel for pytesseract (setup.py) ... \u001b[?25l\u001b[?25hdone\n",
            "  Created wheel for pytesseract: filename=pytesseract-0.3.6-py2.py3-none-any.whl size=13629 sha256=840c768e2fb6259646e495fd413839145270357e6c59f9a172c97296dff90b02\n",
            "  Stored in directory: /root/.cache/pip/wheels/ee/71/72/b98430261d849ae631e283dfc7ccb456a3fb2ed2205714b63f\n",
            "Successfully built pytesseract\n",
            "Installing collected packages: pytesseract\n",
            "Successfully installed pytesseract-0.3.6\n"
          ],
          "name": "stdout"
        }
      ]
    },
    {
      "cell_type": "code",
      "metadata": {
        "id": "KUnkCUmyTLfK"
      },
      "source": [
        "from PIL import Image\n",
        "from operator import itemgetter\n",
        "from collections import Counter\n",
        "import numpy as np\n",
        "\n",
        "import pytesseract\n",
        "import shutil\n",
        "import os\n",
        "import random"
      ],
      "execution_count": 333,
      "outputs": []
    },
    {
      "cell_type": "code",
      "metadata": {
        "id": "z0_rgDt-kCKc"
      },
      "source": [
        "import cv2"
      ],
      "execution_count": 323,
      "outputs": []
    },
    {
      "cell_type": "code",
      "metadata": {
        "id": "sqsjmvaJz1gW"
      },
      "source": [
        "from google.colab.patches import cv2_imshow"
      ],
      "execution_count": 358,
      "outputs": []
    },
    {
      "cell_type": "code",
      "metadata": {
        "id": "86OiX4KyTWeg"
      },
      "source": [
        "import re\n",
        "import collections\n",
        "import json\n",
        "import pandas as pd"
      ],
      "execution_count": 606,
      "outputs": []
    },
    {
      "cell_type": "code",
      "metadata": {
        "id": "tJOjdvyvTv_5"
      },
      "source": [
        "im = Image.open(\"cropp_0.png\")\n",
        "im = im.convert(\"P\")"
      ],
      "execution_count": 641,
      "outputs": []
    },
    {
      "cell_type": "code",
      "metadata": {
        "id": "uE1AAPblU7Z9"
      },
      "source": [
        "def HistCanal(imx):\n",
        "  grid = {}\n",
        "  for z in range(2,70):\n",
        "    im2 = Image.new(\"P\",imx.size,255)\n",
        "    for x in range(imx.size[1]):\n",
        "      for y in range(imx.size[0]):\n",
        "        pix = im.getpixel((y,x))\n",
        "        if pix == z: im2.putpixel((y,x),0)\n",
        "    #grid[z] = len([px for px in list(im.getdata()) if px[1] < 0.01]) #im2[np.where(im2==0)].sum() #np.count_nonzero(im2) #np.sum(im2 != 255) #/ (im.size[0] * im.size[1])\n",
        "    newim = cv2.cvtColor(np.asarray(im2),cv2.COLOR_RGB2BGR)\n",
        "    #newim = cv2.cvtColor(np.array(im2), cv2.COLOR_BGR2GRAY) # COLOR_RGB2BGR\n",
        "    grid[z] = np.sum(newim != 255)\n",
        "    #cv2_imshow(newim)\n",
        "    #if z == 8:\n",
        "      #im2\n",
        "      #cv2_imshow(newim)\n",
        "      #break\n",
        "    #break\n",
        "  return grid"
      ],
      "execution_count": 647,
      "outputs": []
    },
    {
      "cell_type": "code",
      "metadata": {
        "id": "KMZ6fX9U_tnf",
        "outputId": "ee0eeea1-5529-48bb-8bc5-bf56a1448af6",
        "colab": {
          "base_uri": "https://localhost:8080/",
          "height": 62
        }
      },
      "source": [
        "im = Image.open(\"captcha_01.png\")\n",
        "im = im.convert(\"P\")\n",
        "cropped_image = im.crop((0, 0, 25, 45))\n",
        "cropped_image.save(\"cropp_0.png\")\n",
        "cropped_image"
      ],
      "execution_count": 673,
      "outputs": [
        {
          "output_type": "execute_result",
          "data": {
            "image/png": "[encoded data removed]",
            "text/plain": [
              "<PIL.Image.Image image mode=P size=25x45 at 0x7FAF14A3B668>"
            ]
          },
          "metadata": {
            "tags": []
          },
          "execution_count": 673
        }
      ]
    },
    {
      "cell_type": "code",
      "metadata": {
        "id": "R7gpOS1Q0F8p",
        "outputId": "bbc28dbf-ef08-4a48-9897-43c02d05c658",
        "colab": {
          "base_uri": "https://localhost:8080/",
          "height": 298
        }
      },
      "source": [
        "a = HistCanal(cropped_image)\n",
        "df = pd.DataFrame(list(a.items()),columns = ['key','val'])\n",
        "df.query('val>0').groupby(['key']).agg({'val':'sum'}).plot.bar(figsize=[15,4])"
      ],
      "execution_count": 674,
      "outputs": [
        {
          "output_type": "execute_result",
          "data": {
            "text/plain": [
              "<matplotlib.axes._subplots.AxesSubplot at 0x7faf140d6908>"
            ]
          },
          "metadata": {
            "tags": []
          },
          "execution_count": 674
        },
        {
          "output_type": "display_data",
          "data": {
            "image/png": "[encoded data removed]",
            "text/plain": [
              "<Figure size 1080x288 with 1 Axes>"
            ]
          },
          "metadata": {
            "tags": [],
            "needs_background": "light"
          }
        }
      ]
    },
    {
      "cell_type": "code",
      "metadata": {
        "id": "blo9yIkJE-03",
        "outputId": "8c94f275-278f-478b-d12a-e44fef9987c5",
        "colab": {
          "base_uri": "https://localhost:8080/",
          "height": 298
        }
      },
      "source": [
        "a = HistCanal(im)\n",
        "df = pd.DataFrame(list(a.items()),columns = ['key','val'])\n",
        "df.query('val>0 & key == [2,11,12,14,18, 29, 34, 35, 38, 41, 42, 43, 44, 45]').groupby(['key']).agg({'val':'sum'}).plot.bar(figsize=[15,4])"
      ],
      "execution_count": 681,
      "outputs": [
        {
          "output_type": "execute_result",
          "data": {
            "text/plain": [
              "<matplotlib.axes._subplots.AxesSubplot at 0x7faf1371ca20>"
            ]
          },
          "metadata": {
            "tags": []
          },
          "execution_count": 681
        },
        {
          "output_type": "display_data",
          "data": {
            "image/png": "[encoded data removed]",
            "text/plain": [
              "<Figure size 1080x288 with 1 Axes>"
            ]
          },
          "metadata": {
            "tags": [],
            "needs_background": "light"
          }
        }
      ]
    },
    {
      "cell_type": "markdown",
      "metadata": {
        "id": "E-mIC8WUZKuT"
      },
      "source": [
        "## Teste 1"
      ]
    },
    {
      "cell_type": "code",
      "metadata": {
        "id": "cg-5tPchnR42"
      },
      "source": [
        "for x in range(im.size[1]):\n",
        "  for y in range(im.size[0]):\n",
        "    pix = im.getpixel((y,x))\n",
        "    temp[pix] = pix\n",
        "    if pix in [2,11,12,14,18, 29, 34, 35, 38, 41, 42, 43, 44, 45]: #\n",
        "    #if pix in [2,11,12,14,18, 29, 34, 35, 38, 41, 42, 47, 49, 51, 52, 53, 54, 55, 56, 57, 60, 61, 62, 63, 64, 65, 67, 68, 69, 70]: #   \n",
        "      im2.putpixel((y,x),0)\n",
        "\n",
        "im2\n",
        "#im2.save(\"output.png\")"
      ],
      "execution_count": null,
      "outputs": []
    },
    {
      "cell_type": "code",
      "metadata": {
        "id": "iEMiLafqiqrw",
        "outputId": "151c2e8d-0ca6-4f19-b7a8-4789150d7eae",
        "colab": {
          "base_uri": "https://localhost:8080/",
          "height": 62
        }
      },
      "source": [
        "cropped_image = imo.crop((25, 0, 160, 45))\n",
        "cropped_image.save(\"cropp.png\")\n",
        "cropped_image"
      ],
      "execution_count": 335,
      "outputs": [
        {
          "output_type": "execute_result",
          "data": {
            "image/png": "[encoded data removed]",
            "text/plain": [
              "<PIL.Image.Image image mode=P size=135x45 at 0x7FAF17555AC8>"
            ]
          },
          "metadata": {
            "tags": []
          },
          "execution_count": 335
        }
      ]
    },
    {
      "cell_type": "markdown",
      "metadata": {
        "id": "r2ibga9dZOD6"
      },
      "source": [
        "### Teste 2 (ok!)"
      ]
    },
    {
      "cell_type": "code",
      "metadata": {
        "id": "kz2eiKtkOKvA",
        "outputId": "0b61801e-4d5d-4d4b-e19c-1d0389424730",
        "colab": {
          "base_uri": "https://localhost:8080/",
          "height": 67
        }
      },
      "source": [
        "img = cv2.imread('captcha_01.png')\n",
        "im_gray = cv2.cvtColor(img, cv2.COLOR_BGR2GRAY)\n",
        "im_bw = cv2.threshold(im_gray, thresh, 255, cv2.THRESH_BINARY)[1]\n",
        "cv2_imshow(im_bw)"
      ],
      "execution_count": 753,
      "outputs": [
        {
          "output_type": "display_data",
          "data": {
            "image/png": "[encoded data removed]",
            "text/plain": [
              "<PIL.Image.Image image mode=L size=200x50 at 0x7FAF13536AC8>"
            ]
          },
          "metadata": {
            "tags": []
          }
        }
      ]
    },
    {
      "cell_type": "code",
      "metadata": {
        "id": "aXSyhqy3OUgn",
        "outputId": "82d7d531-8367-474b-9862-fe1ed6555534",
        "colab": {
          "base_uri": "https://localhost:8080/",
          "height": 394
        }
      },
      "source": [
        "img_tmp = im_bw.copy()\n",
        "blured = cv2.blur(im_bw, (5,5), 0)    \n",
        "img_thresh = cv2.adaptiveThreshold(blured, 255, cv2.ADAPTIVE_THRESH_GAUSSIAN_C, cv2.THRESH_BINARY_INV, 11, 2)\n",
        "Contours, Hierarchy = cv2.findContours(img_thresh, cv2.RETR_EXTERNAL, cv2.CHAIN_APPROX_NONE) #imgContours, \n",
        "result={}\n",
        "for contour in Contours:\n",
        "  if cv2.contourArea(contour) > MIN_CONTOUR_AREA:\n",
        "    [X, Y, W, H] = cv2.boundingRect(contour)\n",
        "    #cropped_image_00 = cropped_image.crop((0, 0, 17, 45))\n",
        "    crp_img = img_tmp[Y:Y+H, X:X+W]\n",
        "    #cv2.imshow(\"cropped\", crop_img)\n",
        "    if W > 35:\n",
        "      xW = 17\n",
        "      if X > 65: xW = 30\n",
        "      crp_img01 = crp_img[0:H, 0:xW]\n",
        "      result[X] = GetLetter(crp_img01,X)\n",
        "      crp_img02 = crp_img[0:H, xW:W]\n",
        "      result[(X+1)] = GetLetter(crp_img02,X)\n",
        "      #cv2_imshow(crp_img01)\n",
        "    else:\n",
        "      result[X] = GetLetter(crp_img,X)\n",
        "      #cv2.imwrite('contour_0'+str(X).zfill(3)+'.png',crp_img)\n",
        "    cv2.rectangle(img, (X, Y), (X + W, Y + H), (0,0,255), 2)\n",
        "    result2 = ''.join(dict(sorted(result.items())).values())\n",
        "\n",
        "cv2_imshow(img)\n",
        "print(result2)"
      ],
      "execution_count": 754,
      "outputs": [
        {
          "output_type": "display_data",
          "data": {
            "image/png": "[encoded data removed]",
            "text/plain": [
              "<PIL.Image.Image image mode=L size=20x27 at 0x7FAF134C7B38>"
            ]
          },
          "metadata": {
            "tags": []
          }
        },
        {
          "output_type": "stream",
          "text": [
            "\"n\"  %W:0.31851851851851853  xPos:66 Width:20 Heigth:27 \n"
          ],
          "name": "stdout"
        },
        {
          "output_type": "display_data",
          "data": {
            "image/png": "[encoded data removed]",
            "text/plain": [
              "<PIL.Image.Image image mode=L size=15x29 at 0x7FAF134C7630>"
            ]
          },
          "metadata": {
            "tags": []
          }
        },
        {
          "output_type": "stream",
          "text": [
            "\"8\"  %W:0.32873563218390806  xPos:143 Width:15 Heigth:29 \n"
          ],
          "name": "stdout"
        },
        {
          "output_type": "display_data",
          "data": {
            "image/png": "[encoded data removed]",
            "text/plain": [
              "<PIL.Image.Image image mode=L size=22x39 at 0x7FAF134C7320>"
            ]
          },
          "metadata": {
            "tags": []
          }
        },
        {
          "output_type": "stream",
          "text": [
            "\"p\"  %W:0.37995337995337997  xPos:120 Width:22 Heigth:39 \n"
          ],
          "name": "stdout"
        },
        {
          "output_type": "display_data",
          "data": {
            "image/png": "[encoded data removed]",
            "text/plain": [
              "<PIL.Image.Image image mode=L size=17x35 at 0x7FAF134C77B8>"
            ]
          },
          "metadata": {
            "tags": []
          }
        },
        {
          "output_type": "stream",
          "text": [
            "\"f\"  %W:0.33613445378151263  xPos:25 Width:17 Heigth:35 \n"
          ],
          "name": "stdout"
        },
        {
          "output_type": "display_data",
          "data": {
            "image/png": "[encoded data removed]",
            "text/plain": [
              "<PIL.Image.Image image mode=L size=21x35 at 0x7FAF134C7B38>"
            ]
          },
          "metadata": {
            "tags": []
          }
        },
        {
          "output_type": "stream",
          "text": [
            "\"m\"  %W:0.22993197278911565  xPos:25 Width:21 Heigth:35 \n"
          ],
          "name": "stdout"
        },
        {
          "output_type": "display_data",
          "data": {
            "image/png": "[encoded data removed]",
            "text/plain": [
              "<PIL.Image.Image image mode=L size=23x44 at 0x7FAF134C75C0>"
            ]
          },
          "metadata": {
            "tags": []
          }
        },
        {
          "output_type": "stream",
          "text": [
            "\"7\"  %W:0.43280632411067194  xPos:97 Width:23 Heigth:44 Erosion\n"
          ],
          "name": "stdout"
        },
        {
          "output_type": "display_data",
          "data": {
            "image/png": "[encoded data removed]",
            "text/plain": [
              "<PIL.Image.Image image mode=RGB size=200x50 at 0x7FAF134C77B8>"
            ]
          },
          "metadata": {
            "tags": []
          }
        },
        {
          "output_type": "stream",
          "text": [
            "fmn7p8\n"
          ],
          "name": "stdout"
        }
      ]
    },
    {
      "cell_type": "code",
      "metadata": {
        "id": "URrOWE9MUEME"
      },
      "source": [
        "def GetLetter(imgXX,xPos):\n",
        "  h,w = imgXX.shape\n",
        "  gray = imgXX #cv2.cvtColor(imgXX, cv2.COLOR_BGR2GRAY)\n",
        "  thresh = cv2.adaptiveThreshold(gray,255,1,1,11,2)\n",
        "  kernel = np.ones((2,2),np.uint8)\n",
        "  closing = cv2.morphologyEx(thresh, cv2.MORPH_CLOSE, kernel)\n",
        "  ero = \"\"\n",
        "  if h>40:\n",
        "    kernel = np.ones((3,3),np.uint8)\n",
        "    erosion = cv2.dilate(closing,kernel,iterations = 1)\n",
        "    closing = erosion\n",
        "    ero = \"Erosion\"\n",
        "  \n",
        "  cv2_imshow(closing)\n",
        "  text = pytesseract.image_to_string(\n",
        "     closing, config=(\"-c tessedit\"\n",
        "                  \"_char_whitelist=abcdefghijklmnopqrstuvwxyzABCDEFGHIJKLMNOPQRSTUVWXYZ0123456789\"\n",
        "                  \" --psm 10\"\n",
        "                  \" -l osd\"\n",
        "                  \" \"))\n",
        "  text = re.findall(r'[a-zA-Z0-9]', text)[0]\n",
        "  pc_white = np.sum(closing == 255) / (h*w)\n",
        "  #print(pc_white)\n",
        "  if text=='r' and pc_white > 0.33: text = 'f'\n",
        "  if text=='s' and pc_white > 0.52: text = '8'\n",
        "  print('\"'+text+'\"',\" %W:\"+str(pc_white),\" xPos:\"+str(xPos),\"Width:\"+str(w),\"Heigth:\"+str(h),ero)\n",
        "  return text\n"
      ],
      "execution_count": 741,
      "outputs": []
    }
  ]
}